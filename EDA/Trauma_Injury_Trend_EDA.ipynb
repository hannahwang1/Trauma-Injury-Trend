{
  "nbformat": 4,
  "nbformat_minor": 0,
  "metadata": {
    "colab": {
      "provenance": [],
      "mount_file_id": "1p_xw33tEc6Ba8jJgA7CrSDJ3DA7IOFdT",
      "authorship_tag": "ABX9TyN3yyjw6BcntUAg7/C3ojgf",
      "include_colab_link": true
    },
    "kernelspec": {
      "name": "python3",
      "display_name": "Python 3"
    },
    "language_info": {
      "name": "python"
    }
  },
  "cells": [
    {
      "cell_type": "markdown",
      "metadata": {
        "id": "view-in-github",
        "colab_type": "text"
      },
      "source": [
        "<a href=\"https://colab.research.google.com/github/hannahwang1/Trauma-Injury-Trend/blob/main/Trauma_Injury_Trend_EDA.ipynb\" target=\"_parent\"><img src=\"https://colab.research.google.com/assets/colab-badge.svg\" alt=\"Open In Colab\"/></a>"
      ]
    },
    {
      "cell_type": "markdown",
      "source": [
        "# Explanatory Data Analysis"
      ],
      "metadata": {
        "id": "ynLf3WEXepq_"
      }
    },
    {
      "cell_type": "code",
      "source": [
        "import pandas as pd\n",
        "\n",
        "# Load the module\n",
        "from google.colab import drive\n",
        "\n",
        "# Mount the drive\n",
        "drive.mount('/content/drive')"
      ],
      "metadata": {
        "id": "znV_awmo7azd",
        "colab": {
          "base_uri": "https://localhost:8080/"
        },
        "outputId": "8210970f-ac98-4358-c706-fa2b9e2c0305"
      },
      "execution_count": 2,
      "outputs": [
        {
          "output_type": "stream",
          "name": "stdout",
          "text": [
            "Drive already mounted at /content/drive; to attempt to forcibly remount, call drive.mount(\"/content/drive\", force_remount=True).\n"
          ]
        }
      ]
    },
    {
      "cell_type": "code",
      "source": [
        "# load file using relative path \n",
        "df = pd.read_csv('/content/drive/MyDrive/MPH MBA/MPH/580: Practicum/Trauma Data/sb5yr.csv')\n",
        "df.head(10)"
      ],
      "metadata": {
        "colab": {
          "base_uri": "https://localhost:8080/",
          "height": 363
        },
        "id": "Zdzs6hoh9zFx",
        "outputId": "5e6ba42e-0acd-4b2e-dbab-c0406517500e"
      },
      "execution_count": 62,
      "outputs": [
        {
          "output_type": "execute_result",
          "data": {
            "text/plain": [
              "        Admit Age   Race Hispanic  HomeZip  InjuryZip      MOI     ECode  \\\n",
              "0  04/26/2016   0  OTHER        Y  11901.0        NaN      NaN  X58.XXXA   \n",
              "1  07/25/2015  21  WHITE        N  32934.0        NaN  ASSAULT       *BL   \n",
              "2  07/05/2015  37  WHITE        N  11961.0    11961.0  ASSAULT       *BL   \n",
              "3  07/08/2015  20  BLACK        N  11727.0        NaN  ASSAULT       *BL   \n",
              "4  07/19/2015  49  BLACK        N  11968.0    11968.0  ASSAULT       *BL   \n",
              "5  07/20/2015  31  WHITE        N  11727.0    11944.0  ASSAULT       *BL   \n",
              "6  07/28/2015  37  BLACK        N  11950.0        NaN  ASSAULT       *BL   \n",
              "7  08/06/2015  19  WHITE        N  11764.0        NaN  ASSAULT       *BL   \n",
              "8  08/08/2015  26  WHITE        N  11784.0        NaN  ASSAULT       *BL   \n",
              "9  08/10/2015  35  WHITE        N  10026.0        NaN  ASSAULT       *BL   \n",
              "\n",
              "  Activity   Site HLOS ISS       DCDispo WorkInjury TimetoED   agegrp  catage  \n",
              "0      *BL  Y92.9    2   4  HOME, NO SVC          N        6  <1 year       1  \n",
              "1      *BL    *BL   14  17  HOME, NO SVC          N        2  20 to 2       2  \n",
              "2      *BL    *BL    5   1  HOME, NO SVC          N        2  35 to 4       2  \n",
              "3      *BL    *BL    2   5  HOME, NO SVC          N        2  20 to 2       2  \n",
              "4      *BL    *BL    3  10  HOME, NO SVC          N        2  45 to 5       2  \n",
              "5      *BL    *BL    3   5  HOME, NO SVC          N        2  25 to 3       2  \n",
              "6      *BL    *BL    5   1  HOME, NO SVC          N      *ND  35 to 4       2  \n",
              "7      *BL    *BL    2  10  HOME, NO SVC          N        3  15 to 1       2  \n",
              "8      *BL    *BL    7  16  HOME, NO SVC          N        6  25 to 3       2  \n",
              "9      *BL    *BL    4   8  HOME, NO SVC          N        4  35 to 4       2  "
            ],
            "text/html": [
              "\n",
              "  <div id=\"df-2e49fb83-b690-41bf-be9e-32b66f0baeb9\">\n",
              "    <div class=\"colab-df-container\">\n",
              "      <div>\n",
              "<style scoped>\n",
              "    .dataframe tbody tr th:only-of-type {\n",
              "        vertical-align: middle;\n",
              "    }\n",
              "\n",
              "    .dataframe tbody tr th {\n",
              "        vertical-align: top;\n",
              "    }\n",
              "\n",
              "    .dataframe thead th {\n",
              "        text-align: right;\n",
              "    }\n",
              "</style>\n",
              "<table border=\"1\" class=\"dataframe\">\n",
              "  <thead>\n",
              "    <tr style=\"text-align: right;\">\n",
              "      <th></th>\n",
              "      <th>Admit</th>\n",
              "      <th>Age</th>\n",
              "      <th>Race</th>\n",
              "      <th>Hispanic</th>\n",
              "      <th>HomeZip</th>\n",
              "      <th>InjuryZip</th>\n",
              "      <th>MOI</th>\n",
              "      <th>ECode</th>\n",
              "      <th>Activity</th>\n",
              "      <th>Site</th>\n",
              "      <th>HLOS</th>\n",
              "      <th>ISS</th>\n",
              "      <th>DCDispo</th>\n",
              "      <th>WorkInjury</th>\n",
              "      <th>TimetoED</th>\n",
              "      <th>agegrp</th>\n",
              "      <th>catage</th>\n",
              "    </tr>\n",
              "  </thead>\n",
              "  <tbody>\n",
              "    <tr>\n",
              "      <th>0</th>\n",
              "      <td>04/26/2016</td>\n",
              "      <td>0</td>\n",
              "      <td>OTHER</td>\n",
              "      <td>Y</td>\n",
              "      <td>11901.0</td>\n",
              "      <td>NaN</td>\n",
              "      <td>NaN</td>\n",
              "      <td>X58.XXXA</td>\n",
              "      <td>*BL</td>\n",
              "      <td>Y92.9</td>\n",
              "      <td>2</td>\n",
              "      <td>4</td>\n",
              "      <td>HOME, NO SVC</td>\n",
              "      <td>N</td>\n",
              "      <td>6</td>\n",
              "      <td>&lt;1 year</td>\n",
              "      <td>1</td>\n",
              "    </tr>\n",
              "    <tr>\n",
              "      <th>1</th>\n",
              "      <td>07/25/2015</td>\n",
              "      <td>21</td>\n",
              "      <td>WHITE</td>\n",
              "      <td>N</td>\n",
              "      <td>32934.0</td>\n",
              "      <td>NaN</td>\n",
              "      <td>ASSAULT</td>\n",
              "      <td>*BL</td>\n",
              "      <td>*BL</td>\n",
              "      <td>*BL</td>\n",
              "      <td>14</td>\n",
              "      <td>17</td>\n",
              "      <td>HOME, NO SVC</td>\n",
              "      <td>N</td>\n",
              "      <td>2</td>\n",
              "      <td>20 to 2</td>\n",
              "      <td>2</td>\n",
              "    </tr>\n",
              "    <tr>\n",
              "      <th>2</th>\n",
              "      <td>07/05/2015</td>\n",
              "      <td>37</td>\n",
              "      <td>WHITE</td>\n",
              "      <td>N</td>\n",
              "      <td>11961.0</td>\n",
              "      <td>11961.0</td>\n",
              "      <td>ASSAULT</td>\n",
              "      <td>*BL</td>\n",
              "      <td>*BL</td>\n",
              "      <td>*BL</td>\n",
              "      <td>5</td>\n",
              "      <td>1</td>\n",
              "      <td>HOME, NO SVC</td>\n",
              "      <td>N</td>\n",
              "      <td>2</td>\n",
              "      <td>35 to 4</td>\n",
              "      <td>2</td>\n",
              "    </tr>\n",
              "    <tr>\n",
              "      <th>3</th>\n",
              "      <td>07/08/2015</td>\n",
              "      <td>20</td>\n",
              "      <td>BLACK</td>\n",
              "      <td>N</td>\n",
              "      <td>11727.0</td>\n",
              "      <td>NaN</td>\n",
              "      <td>ASSAULT</td>\n",
              "      <td>*BL</td>\n",
              "      <td>*BL</td>\n",
              "      <td>*BL</td>\n",
              "      <td>2</td>\n",
              "      <td>5</td>\n",
              "      <td>HOME, NO SVC</td>\n",
              "      <td>N</td>\n",
              "      <td>2</td>\n",
              "      <td>20 to 2</td>\n",
              "      <td>2</td>\n",
              "    </tr>\n",
              "    <tr>\n",
              "      <th>4</th>\n",
              "      <td>07/19/2015</td>\n",
              "      <td>49</td>\n",
              "      <td>BLACK</td>\n",
              "      <td>N</td>\n",
              "      <td>11968.0</td>\n",
              "      <td>11968.0</td>\n",
              "      <td>ASSAULT</td>\n",
              "      <td>*BL</td>\n",
              "      <td>*BL</td>\n",
              "      <td>*BL</td>\n",
              "      <td>3</td>\n",
              "      <td>10</td>\n",
              "      <td>HOME, NO SVC</td>\n",
              "      <td>N</td>\n",
              "      <td>2</td>\n",
              "      <td>45 to 5</td>\n",
              "      <td>2</td>\n",
              "    </tr>\n",
              "    <tr>\n",
              "      <th>5</th>\n",
              "      <td>07/20/2015</td>\n",
              "      <td>31</td>\n",
              "      <td>WHITE</td>\n",
              "      <td>N</td>\n",
              "      <td>11727.0</td>\n",
              "      <td>11944.0</td>\n",
              "      <td>ASSAULT</td>\n",
              "      <td>*BL</td>\n",
              "      <td>*BL</td>\n",
              "      <td>*BL</td>\n",
              "      <td>3</td>\n",
              "      <td>5</td>\n",
              "      <td>HOME, NO SVC</td>\n",
              "      <td>N</td>\n",
              "      <td>2</td>\n",
              "      <td>25 to 3</td>\n",
              "      <td>2</td>\n",
              "    </tr>\n",
              "    <tr>\n",
              "      <th>6</th>\n",
              "      <td>07/28/2015</td>\n",
              "      <td>37</td>\n",
              "      <td>BLACK</td>\n",
              "      <td>N</td>\n",
              "      <td>11950.0</td>\n",
              "      <td>NaN</td>\n",
              "      <td>ASSAULT</td>\n",
              "      <td>*BL</td>\n",
              "      <td>*BL</td>\n",
              "      <td>*BL</td>\n",
              "      <td>5</td>\n",
              "      <td>1</td>\n",
              "      <td>HOME, NO SVC</td>\n",
              "      <td>N</td>\n",
              "      <td>*ND</td>\n",
              "      <td>35 to 4</td>\n",
              "      <td>2</td>\n",
              "    </tr>\n",
              "    <tr>\n",
              "      <th>7</th>\n",
              "      <td>08/06/2015</td>\n",
              "      <td>19</td>\n",
              "      <td>WHITE</td>\n",
              "      <td>N</td>\n",
              "      <td>11764.0</td>\n",
              "      <td>NaN</td>\n",
              "      <td>ASSAULT</td>\n",
              "      <td>*BL</td>\n",
              "      <td>*BL</td>\n",
              "      <td>*BL</td>\n",
              "      <td>2</td>\n",
              "      <td>10</td>\n",
              "      <td>HOME, NO SVC</td>\n",
              "      <td>N</td>\n",
              "      <td>3</td>\n",
              "      <td>15 to 1</td>\n",
              "      <td>2</td>\n",
              "    </tr>\n",
              "    <tr>\n",
              "      <th>8</th>\n",
              "      <td>08/08/2015</td>\n",
              "      <td>26</td>\n",
              "      <td>WHITE</td>\n",
              "      <td>N</td>\n",
              "      <td>11784.0</td>\n",
              "      <td>NaN</td>\n",
              "      <td>ASSAULT</td>\n",
              "      <td>*BL</td>\n",
              "      <td>*BL</td>\n",
              "      <td>*BL</td>\n",
              "      <td>7</td>\n",
              "      <td>16</td>\n",
              "      <td>HOME, NO SVC</td>\n",
              "      <td>N</td>\n",
              "      <td>6</td>\n",
              "      <td>25 to 3</td>\n",
              "      <td>2</td>\n",
              "    </tr>\n",
              "    <tr>\n",
              "      <th>9</th>\n",
              "      <td>08/10/2015</td>\n",
              "      <td>35</td>\n",
              "      <td>WHITE</td>\n",
              "      <td>N</td>\n",
              "      <td>10026.0</td>\n",
              "      <td>NaN</td>\n",
              "      <td>ASSAULT</td>\n",
              "      <td>*BL</td>\n",
              "      <td>*BL</td>\n",
              "      <td>*BL</td>\n",
              "      <td>4</td>\n",
              "      <td>8</td>\n",
              "      <td>HOME, NO SVC</td>\n",
              "      <td>N</td>\n",
              "      <td>4</td>\n",
              "      <td>35 to 4</td>\n",
              "      <td>2</td>\n",
              "    </tr>\n",
              "  </tbody>\n",
              "</table>\n",
              "</div>\n",
              "      <button class=\"colab-df-convert\" onclick=\"convertToInteractive('df-2e49fb83-b690-41bf-be9e-32b66f0baeb9')\"\n",
              "              title=\"Convert this dataframe to an interactive table.\"\n",
              "              style=\"display:none;\">\n",
              "        \n",
              "  <svg xmlns=\"http://www.w3.org/2000/svg\" height=\"24px\"viewBox=\"0 0 24 24\"\n",
              "       width=\"24px\">\n",
              "    <path d=\"M0 0h24v24H0V0z\" fill=\"none\"/>\n",
              "    <path d=\"M18.56 5.44l.94 2.06.94-2.06 2.06-.94-2.06-.94-.94-2.06-.94 2.06-2.06.94zm-11 1L8.5 8.5l.94-2.06 2.06-.94-2.06-.94L8.5 2.5l-.94 2.06-2.06.94zm10 10l.94 2.06.94-2.06 2.06-.94-2.06-.94-.94-2.06-.94 2.06-2.06.94z\"/><path d=\"M17.41 7.96l-1.37-1.37c-.4-.4-.92-.59-1.43-.59-.52 0-1.04.2-1.43.59L10.3 9.45l-7.72 7.72c-.78.78-.78 2.05 0 2.83L4 21.41c.39.39.9.59 1.41.59.51 0 1.02-.2 1.41-.59l7.78-7.78 2.81-2.81c.8-.78.8-2.07 0-2.86zM5.41 20L4 18.59l7.72-7.72 1.47 1.35L5.41 20z\"/>\n",
              "  </svg>\n",
              "      </button>\n",
              "      \n",
              "  <style>\n",
              "    .colab-df-container {\n",
              "      display:flex;\n",
              "      flex-wrap:wrap;\n",
              "      gap: 12px;\n",
              "    }\n",
              "\n",
              "    .colab-df-convert {\n",
              "      background-color: #E8F0FE;\n",
              "      border: none;\n",
              "      border-radius: 50%;\n",
              "      cursor: pointer;\n",
              "      display: none;\n",
              "      fill: #1967D2;\n",
              "      height: 32px;\n",
              "      padding: 0 0 0 0;\n",
              "      width: 32px;\n",
              "    }\n",
              "\n",
              "    .colab-df-convert:hover {\n",
              "      background-color: #E2EBFA;\n",
              "      box-shadow: 0px 1px 2px rgba(60, 64, 67, 0.3), 0px 1px 3px 1px rgba(60, 64, 67, 0.15);\n",
              "      fill: #174EA6;\n",
              "    }\n",
              "\n",
              "    [theme=dark] .colab-df-convert {\n",
              "      background-color: #3B4455;\n",
              "      fill: #D2E3FC;\n",
              "    }\n",
              "\n",
              "    [theme=dark] .colab-df-convert:hover {\n",
              "      background-color: #434B5C;\n",
              "      box-shadow: 0px 1px 3px 1px rgba(0, 0, 0, 0.15);\n",
              "      filter: drop-shadow(0px 1px 2px rgba(0, 0, 0, 0.3));\n",
              "      fill: #FFFFFF;\n",
              "    }\n",
              "  </style>\n",
              "\n",
              "      <script>\n",
              "        const buttonEl =\n",
              "          document.querySelector('#df-2e49fb83-b690-41bf-be9e-32b66f0baeb9 button.colab-df-convert');\n",
              "        buttonEl.style.display =\n",
              "          google.colab.kernel.accessAllowed ? 'block' : 'none';\n",
              "\n",
              "        async function convertToInteractive(key) {\n",
              "          const element = document.querySelector('#df-2e49fb83-b690-41bf-be9e-32b66f0baeb9');\n",
              "          const dataTable =\n",
              "            await google.colab.kernel.invokeFunction('convertToInteractive',\n",
              "                                                     [key], {});\n",
              "          if (!dataTable) return;\n",
              "\n",
              "          const docLinkHtml = 'Like what you see? Visit the ' +\n",
              "            '<a target=\"_blank\" href=https://colab.research.google.com/notebooks/data_table.ipynb>data table notebook</a>'\n",
              "            + ' to learn more about interactive tables.';\n",
              "          element.innerHTML = '';\n",
              "          dataTable['output_type'] = 'display_data';\n",
              "          await google.colab.output.renderOutput(dataTable, element);\n",
              "          const docLink = document.createElement('div');\n",
              "          docLink.innerHTML = docLinkHtml;\n",
              "          element.appendChild(docLink);\n",
              "        }\n",
              "      </script>\n",
              "    </div>\n",
              "  </div>\n",
              "  "
            ]
          },
          "metadata": {},
          "execution_count": 62
        }
      ]
    },
    {
      "cell_type": "markdown",
      "source": [
        "Age and Age Groups (agegrp)"
      ],
      "metadata": {
        "id": "fDpo8RvRiVcf"
      }
    },
    {
      "cell_type": "code",
      "source": [
        "# Create the frequency table\n",
        "Age_freq = df['Age'].value_counts().sort_index()\n",
        "\n",
        "# Print the frequency table\n",
        "print(Age_freq)"
      ],
      "metadata": {
        "colab": {
          "base_uri": "https://localhost:8080/"
        },
        "id": "3qYYwI1Ailbw",
        "outputId": "ceba5b60-2d28-45f3-8dae-ea8b3c6e52a2"
      },
      "execution_count": 55,
      "outputs": [
        {
          "output_type": "stream",
          "name": "stdout",
          "text": [
            "0      142\n",
            "1      120\n",
            "10      22\n",
            "100     11\n",
            "101      6\n",
            "      ... \n",
            "95      44\n",
            "96      44\n",
            "97      34\n",
            "98      19\n",
            "99      21\n",
            "Name: Age, Length: 107, dtype: int64\n"
          ]
        }
      ]
    },
    {
      "cell_type": "code",
      "source": [
        "# Create a frequency table for the agegrp column in percentage form\n",
        "agegrp_freq = df[\"agegrp\"].value_counts(normalize=True).sort_index()\n",
        "\n",
        "# Print the resulting frequency table\n",
        "print(agegrp_freq)"
      ],
      "metadata": {
        "colab": {
          "base_uri": "https://localhost:8080/"
        },
        "id": "FbG9_bazbkwL",
        "outputId": "68c04f8c-d87b-4409-ffc8-51744ba5e5ec"
      },
      "execution_count": 52,
      "outputs": [
        {
          "output_type": "stream",
          "name": "stdout",
          "text": [
            "1 to 4     0.032637\n",
            "10 to 1    0.022858\n",
            "15 to 1    0.039237\n",
            "20 to 2    0.043882\n",
            "25 to 3    0.068451\n",
            "35 to 4    0.063073\n",
            "45 to 5    0.079941\n",
            "5 to 9     0.020291\n",
            "55 to 6    0.103899\n",
            "65 to 7    0.123823\n",
            "75 to 8    0.184696\n",
            "85+ yea    0.199853\n",
            "<1 year    0.017357\n",
            "Name: agegrp, dtype: float64\n"
          ]
        }
      ]
    },
    {
      "cell_type": "code",
      "source": [
        "import seaborn as sns\n",
        "# Plot the frequency table as a histogram\n",
        "sns.countplot(x=\"agegrp\", data=df)\n",
        "\n",
        "# Show the plot\n",
        "plt.show()"
      ],
      "metadata": {
        "colab": {
          "base_uri": "https://localhost:8080/",
          "height": 279
        },
        "id": "vdWjW7AQet8d",
        "outputId": "88bcbd8e-33da-4562-eb1e-a1c1a95c86f4"
      },
      "execution_count": 73,
      "outputs": [
        {
          "output_type": "display_data",
          "data": {
            "text/plain": [
              "<Figure size 432x288 with 1 Axes>"
            ],
            "image/png": "[encoded data removed]"
          },
          "metadata": {
            "needs_background": "light"
          }
        }
      ]
    },
    {
      "cell_type": "code",
      "source": [
        "# Remove observations with *BL\n",
        "df = df[df['Age'] != '*BL']"
      ],
      "metadata": {
        "id": "JoOKEbbIi0IU"
      },
      "execution_count": 52,
      "outputs": []
    },
    {
      "cell_type": "code",
      "source": [
        "from statistics import mean, median, stdev\n",
        "\n",
        "# Calculate the mean age\n",
        "mean_age = df[\"Age\"].mean()\n",
        "print(\"Mean age:\", mean_age)\n",
        "\n",
        "# Calculate the median age\n",
        "median_age = df[\"Age\"].median()\n",
        "print(\"Median age:\", median_age)\n"
      ],
      "metadata": {
        "colab": {
          "base_uri": "https://localhost:8080/"
        },
        "id": "BbcujSTZTgrW",
        "outputId": "333add32-5eec-4247-b051-0f629d54c923"
      },
      "execution_count": 18,
      "outputs": [
        {
          "output_type": "stream",
          "name": "stdout",
          "text": [
            "Mean age: inf\n",
            "Median age: 65.0\n"
          ]
        }
      ]
    },
    {
      "cell_type": "markdown",
      "source": [
        "Race"
      ],
      "metadata": {
        "id": "STwye7Gaheqy"
      }
    },
    {
      "cell_type": "code",
      "source": [
        "# Create a frequency table for the race column in percentage form\n",
        "Race_freq = df[\"Race\"].value_counts(normalize=True).sort_index()\n",
        "\n",
        "# Print the resulting frequency table\n",
        "print(Race_freq)"
      ],
      "metadata": {
        "colab": {
          "base_uri": "https://localhost:8080/"
        },
        "id": "OhSk4I11bRs4",
        "outputId": "663fb32a-01be-4a58-ae7a-0204126ea050"
      },
      "execution_count": 81,
      "outputs": [
        {
          "output_type": "stream",
          "name": "stdout",
          "text": [
            "ASIAN               0.008083\n",
            "ASIAN OR PACIFIC    0.008273\n",
            "BLACK               0.057056\n",
            "INDIAN/ESK/ALE      0.001712\n",
            "OTHER               0.110974\n",
            "PACIFIC ISLANDER    0.000475\n",
            "WHITE               0.813427\n",
            "Name: Race, dtype: float64\n"
          ]
        }
      ]
    },
    {
      "cell_type": "code",
      "source": [
        "# Plot the frequency table as a histogram\n",
        "sns.countplot(x=\"Race\", data=df, order=df[\"Race\"].value_counts().index)\n",
        "\n",
        "# Show the plot\n",
        "plt.show()"
      ],
      "metadata": {
        "colab": {
          "base_uri": "https://localhost:8080/",
          "height": 279
        },
        "id": "1GNSDrLAirHF",
        "outputId": "bb2da10d-99b8-451d-c12a-701a159173ef"
      },
      "execution_count": 80,
      "outputs": [
        {
          "output_type": "display_data",
          "data": {
            "text/plain": [
              "<Figure size 432x288 with 1 Axes>"
            ],
            "image/png": "[encoded data removed]"
          },
          "metadata": {
            "needs_background": "light"
          }
        }
      ]
    },
    {
      "cell_type": "code",
      "source": [
        "# Remove observations with *ND\n",
        "df = df[df['Race'] != '*ND']"
      ],
      "metadata": {
        "id": "CuLlJRXFVhjL"
      },
      "execution_count": 77,
      "outputs": []
    },
    {
      "cell_type": "code",
      "source": [
        "# One-hot encode the \"race\" column\n",
        "df_encoded = pd.get_dummies(df, columns=['Race'], prefix='Race')\n"
      ],
      "metadata": {
        "id": "xNAn0pTazLEl"
      },
      "execution_count": 18,
      "outputs": []
    },
    {
      "cell_type": "code",
      "source": [
        "df_encoded.head()"
      ],
      "metadata": {
        "colab": {
          "base_uri": "https://localhost:8080/",
          "height": 317
        },
        "id": "QdHk1YnszXxc",
        "outputId": "9740fa93-040f-4472-ff58-ec03155735a5"
      },
      "execution_count": 14,
      "outputs": [
        {
          "output_type": "execute_result",
          "data": {
            "text/plain": [
              "        Admit Age Hispanic  HomeZip  InjuryZip      MOI     ECode Activity  \\\n",
              "0  04/26/2016   0        Y  11901.0        NaN      NaN  X58.XXXA      *BL   \n",
              "1  07/25/2015  21        N  32934.0        NaN  ASSAULT       *BL      *BL   \n",
              "2  07/05/2015  37        N  11961.0    11961.0  ASSAULT       *BL      *BL   \n",
              "3  07/08/2015  20        N  11727.0        NaN  ASSAULT       *BL      *BL   \n",
              "4  07/19/2015  49        N  11968.0    11968.0  ASSAULT       *BL      *BL   \n",
              "\n",
              "    Site HLOS  ...   agegrp catage Race_*ND Race_ASIAN Race_ASIAN OR PACIFIC  \\\n",
              "0  Y92.9    2  ...  <1 year      1        0          0                     0   \n",
              "1    *BL   14  ...  20 to 2      2        0          0                     0   \n",
              "2    *BL    5  ...  35 to 4      2        0          0                     0   \n",
              "3    *BL    2  ...  20 to 2      2        0          0                     0   \n",
              "4    *BL    3  ...  45 to 5      2        0          0                     0   \n",
              "\n",
              "   Race_BLACK  Race_INDIAN/ESK/ALE  Race_OTHER  Race_PACIFIC ISLANDER  \\\n",
              "0           0                    0           1                      0   \n",
              "1           0                    0           0                      0   \n",
              "2           0                    0           0                      0   \n",
              "3           1                    0           0                      0   \n",
              "4           1                    0           0                      0   \n",
              "\n",
              "   Race_WHITE  \n",
              "0           0  \n",
              "1           1  \n",
              "2           1  \n",
              "3           0  \n",
              "4           0  \n",
              "\n",
              "[5 rows x 24 columns]"
            ],
            "text/html": [
              "\n",
              "  <div id=\"df-cf34670f-c578-4024-baed-1ff350a3b698\">\n",
              "    <div class=\"colab-df-container\">\n",
              "      <div>\n",
              "<style scoped>\n",
              "    .dataframe tbody tr th:only-of-type {\n",
              "        vertical-align: middle;\n",
              "    }\n",
              "\n",
              "    .dataframe tbody tr th {\n",
              "        vertical-align: top;\n",
              "    }\n",
              "\n",
              "    .dataframe thead th {\n",
              "        text-align: right;\n",
              "    }\n",
              "</style>\n",
              "<table border=\"1\" class=\"dataframe\">\n",
              "  <thead>\n",
              "    <tr style=\"text-align: right;\">\n",
              "      <th></th>\n",
              "      <th>Admit</th>\n",
              "      <th>Age</th>\n",
              "      <th>Hispanic</th>\n",
              "      <th>HomeZip</th>\n",
              "      <th>InjuryZip</th>\n",
              "      <th>MOI</th>\n",
              "      <th>ECode</th>\n",
              "      <th>Activity</th>\n",
              "      <th>Site</th>\n",
              "      <th>HLOS</th>\n",
              "      <th>...</th>\n",
              "      <th>agegrp</th>\n",
              "      <th>catage</th>\n",
              "      <th>Race_*ND</th>\n",
              "      <th>Race_ASIAN</th>\n",
              "      <th>Race_ASIAN OR PACIFIC</th>\n",
              "      <th>Race_BLACK</th>\n",
              "      <th>Race_INDIAN/ESK/ALE</th>\n",
              "      <th>Race_OTHER</th>\n",
              "      <th>Race_PACIFIC ISLANDER</th>\n",
              "      <th>Race_WHITE</th>\n",
              "    </tr>\n",
              "  </thead>\n",
              "  <tbody>\n",
              "    <tr>\n",
              "      <th>0</th>\n",
              "      <td>04/26/2016</td>\n",
              "      <td>0</td>\n",
              "      <td>Y</td>\n",
              "      <td>11901.0</td>\n",
              "      <td>NaN</td>\n",
              "      <td>NaN</td>\n",
              "      <td>X58.XXXA</td>\n",
              "      <td>*BL</td>\n",
              "      <td>Y92.9</td>\n",
              "      <td>2</td>\n",
              "      <td>...</td>\n",
              "      <td>&lt;1 year</td>\n",
              "      <td>1</td>\n",
              "      <td>0</td>\n",
              "      <td>0</td>\n",
              "      <td>0</td>\n",
              "      <td>0</td>\n",
              "      <td>0</td>\n",
              "      <td>1</td>\n",
              "      <td>0</td>\n",
              "      <td>0</td>\n",
              "    </tr>\n",
              "    <tr>\n",
              "      <th>1</th>\n",
              "      <td>07/25/2015</td>\n",
              "      <td>21</td>\n",
              "      <td>N</td>\n",
              "      <td>32934.0</td>\n",
              "      <td>NaN</td>\n",
              "      <td>ASSAULT</td>\n",
              "      <td>*BL</td>\n",
              "      <td>*BL</td>\n",
              "      <td>*BL</td>\n",
              "      <td>14</td>\n",
              "      <td>...</td>\n",
              "      <td>20 to 2</td>\n",
              "      <td>2</td>\n",
              "      <td>0</td>\n",
              "      <td>0</td>\n",
              "      <td>0</td>\n",
              "      <td>0</td>\n",
              "      <td>0</td>\n",
              "      <td>0</td>\n",
              "      <td>0</td>\n",
              "      <td>1</td>\n",
              "    </tr>\n",
              "    <tr>\n",
              "      <th>2</th>\n",
              "      <td>07/05/2015</td>\n",
              "      <td>37</td>\n",
              "      <td>N</td>\n",
              "      <td>11961.0</td>\n",
              "      <td>11961.0</td>\n",
              "      <td>ASSAULT</td>\n",
              "      <td>*BL</td>\n",
              "      <td>*BL</td>\n",
              "      <td>*BL</td>\n",
              "      <td>5</td>\n",
              "      <td>...</td>\n",
              "      <td>35 to 4</td>\n",
              "      <td>2</td>\n",
              "      <td>0</td>\n",
              "      <td>0</td>\n",
              "      <td>0</td>\n",
              "      <td>0</td>\n",
              "      <td>0</td>\n",
              "      <td>0</td>\n",
              "      <td>0</td>\n",
              "      <td>1</td>\n",
              "    </tr>\n",
              "    <tr>\n",
              "      <th>3</th>\n",
              "      <td>07/08/2015</td>\n",
              "      <td>20</td>\n",
              "      <td>N</td>\n",
              "      <td>11727.0</td>\n",
              "      <td>NaN</td>\n",
              "      <td>ASSAULT</td>\n",
              "      <td>*BL</td>\n",
              "      <td>*BL</td>\n",
              "      <td>*BL</td>\n",
              "      <td>2</td>\n",
              "      <td>...</td>\n",
              "      <td>20 to 2</td>\n",
              "      <td>2</td>\n",
              "      <td>0</td>\n",
              "      <td>0</td>\n",
              "      <td>0</td>\n",
              "      <td>1</td>\n",
              "      <td>0</td>\n",
              "      <td>0</td>\n",
              "      <td>0</td>\n",
              "      <td>0</td>\n",
              "    </tr>\n",
              "    <tr>\n",
              "      <th>4</th>\n",
              "      <td>07/19/2015</td>\n",
              "      <td>49</td>\n",
              "      <td>N</td>\n",
              "      <td>11968.0</td>\n",
              "      <td>11968.0</td>\n",
              "      <td>ASSAULT</td>\n",
              "      <td>*BL</td>\n",
              "      <td>*BL</td>\n",
              "      <td>*BL</td>\n",
              "      <td>3</td>\n",
              "      <td>...</td>\n",
              "      <td>45 to 5</td>\n",
              "      <td>2</td>\n",
              "      <td>0</td>\n",
              "      <td>0</td>\n",
              "      <td>0</td>\n",
              "      <td>1</td>\n",
              "      <td>0</td>\n",
              "      <td>0</td>\n",
              "      <td>0</td>\n",
              "      <td>0</td>\n",
              "    </tr>\n",
              "  </tbody>\n",
              "</table>\n",
              "<p>5 rows × 24 columns</p>\n",
              "</div>\n",
              "      <button class=\"colab-df-convert\" onclick=\"convertToInteractive('df-cf34670f-c578-4024-baed-1ff350a3b698')\"\n",
              "              title=\"Convert this dataframe to an interactive table.\"\n",
              "              style=\"display:none;\">\n",
              "        \n",
              "  <svg xmlns=\"http://www.w3.org/2000/svg\" height=\"24px\"viewBox=\"0 0 24 24\"\n",
              "       width=\"24px\">\n",
              "    <path d=\"M0 0h24v24H0V0z\" fill=\"none\"/>\n",
              "    <path d=\"M18.56 5.44l.94 2.06.94-2.06 2.06-.94-2.06-.94-.94-2.06-.94 2.06-2.06.94zm-11 1L8.5 8.5l.94-2.06 2.06-.94-2.06-.94L8.5 2.5l-.94 2.06-2.06.94zm10 10l.94 2.06.94-2.06 2.06-.94-2.06-.94-.94-2.06-.94 2.06-2.06.94z\"/><path d=\"M17.41 7.96l-1.37-1.37c-.4-.4-.92-.59-1.43-.59-.52 0-1.04.2-1.43.59L10.3 9.45l-7.72 7.72c-.78.78-.78 2.05 0 2.83L4 21.41c.39.39.9.59 1.41.59.51 0 1.02-.2 1.41-.59l7.78-7.78 2.81-2.81c.8-.78.8-2.07 0-2.86zM5.41 20L4 18.59l7.72-7.72 1.47 1.35L5.41 20z\"/>\n",
              "  </svg>\n",
              "      </button>\n",
              "      \n",
              "  <style>\n",
              "    .colab-df-container {\n",
              "      display:flex;\n",
              "      flex-wrap:wrap;\n",
              "      gap: 12px;\n",
              "    }\n",
              "\n",
              "    .colab-df-convert {\n",
              "      background-color: #E8F0FE;\n",
              "      border: none;\n",
              "      border-radius: 50%;\n",
              "      cursor: pointer;\n",
              "      display: none;\n",
              "      fill: #1967D2;\n",
              "      height: 32px;\n",
              "      padding: 0 0 0 0;\n",
              "      width: 32px;\n",
              "    }\n",
              "\n",
              "    .colab-df-convert:hover {\n",
              "      background-color: #E2EBFA;\n",
              "      box-shadow: 0px 1px 2px rgba(60, 64, 67, 0.3), 0px 1px 3px 1px rgba(60, 64, 67, 0.15);\n",
              "      fill: #174EA6;\n",
              "    }\n",
              "\n",
              "    [theme=dark] .colab-df-convert {\n",
              "      background-color: #3B4455;\n",
              "      fill: #D2E3FC;\n",
              "    }\n",
              "\n",
              "    [theme=dark] .colab-df-convert:hover {\n",
              "      background-color: #434B5C;\n",
              "      box-shadow: 0px 1px 3px 1px rgba(0, 0, 0, 0.15);\n",
              "      filter: drop-shadow(0px 1px 2px rgba(0, 0, 0, 0.3));\n",
              "      fill: #FFFFFF;\n",
              "    }\n",
              "  </style>\n",
              "\n",
              "      <script>\n",
              "        const buttonEl =\n",
              "          document.querySelector('#df-cf34670f-c578-4024-baed-1ff350a3b698 button.colab-df-convert');\n",
              "        buttonEl.style.display =\n",
              "          google.colab.kernel.accessAllowed ? 'block' : 'none';\n",
              "\n",
              "        async function convertToInteractive(key) {\n",
              "          const element = document.querySelector('#df-cf34670f-c578-4024-baed-1ff350a3b698');\n",
              "          const dataTable =\n",
              "            await google.colab.kernel.invokeFunction('convertToInteractive',\n",
              "                                                     [key], {});\n",
              "          if (!dataTable) return;\n",
              "\n",
              "          const docLinkHtml = 'Like what you see? Visit the ' +\n",
              "            '<a target=\"_blank\" href=https://colab.research.google.com/notebooks/data_table.ipynb>data table notebook</a>'\n",
              "            + ' to learn more about interactive tables.';\n",
              "          element.innerHTML = '';\n",
              "          dataTable['output_type'] = 'display_data';\n",
              "          await google.colab.output.renderOutput(dataTable, element);\n",
              "          const docLink = document.createElement('div');\n",
              "          docLink.innerHTML = docLinkHtml;\n",
              "          element.appendChild(docLink);\n",
              "        }\n",
              "      </script>\n",
              "    </div>\n",
              "  </div>\n",
              "  "
            ]
          },
          "metadata": {},
          "execution_count": 14
        }
      ]
    },
    {
      "cell_type": "markdown",
      "source": [
        "Hispanic Origin"
      ],
      "metadata": {
        "id": "Cyn0zUaXhymm"
      }
    },
    {
      "cell_type": "code",
      "source": [
        "# Create a frequency table for the Hispanic column in percentage form\n",
        "Hispanic_freq = df[\"Hispanic\"].value_counts(normalize=True).sort_index()\n",
        "\n",
        "# Print the resulting frequency table\n",
        "print(Hispanic_freq)"
      ],
      "metadata": {
        "colab": {
          "base_uri": "https://localhost:8080/"
        },
        "id": "3-ZcfEiXh24h",
        "outputId": "57a9e09a-ce6a-4472-e5eb-6ec8451cf9b1"
      },
      "execution_count": 41,
      "outputs": [
        {
          "output_type": "stream",
          "name": "stdout",
          "text": [
            "0    0.875703\n",
            "1    0.124297\n",
            "Name: Hispanic, dtype: float64\n"
          ]
        }
      ]
    },
    {
      "cell_type": "code",
      "source": [
        "# Replace the values \"Hispanic\" and \"Non-Hispanic\" with 1 and 0\n",
        "df['Hispanic'] = df['Hispanic'].replace({'Y': 1, 'N': 0})\n"
      ],
      "metadata": {
        "id": "r3tcuJqB1ELo"
      },
      "execution_count": 85,
      "outputs": []
    },
    {
      "cell_type": "code",
      "source": [
        "# Remove observations with *ND\n",
        "df = df[df['Hispanic'] != '*ND']"
      ],
      "metadata": {
        "id": "La1szs5fUgUt"
      },
      "execution_count": 83,
      "outputs": []
    },
    {
      "cell_type": "code",
      "source": [
        "# Plot the frequency table as a histogram\n",
        "sns.countplot(x=\"Hispanic\", data=df, order=df[\"Hispanic\"].value_counts().index)\n",
        "\n",
        "# Show the plot\n",
        "plt.show()"
      ],
      "metadata": {
        "colab": {
          "base_uri": "https://localhost:8080/",
          "height": 279
        },
        "id": "TXxhMPX_kdqE",
        "outputId": "e06fa04e-dba3-48a6-8a44-aae75d8206ce"
      },
      "execution_count": 86,
      "outputs": [
        {
          "output_type": "display_data",
          "data": {
            "text/plain": [
              "<Figure size 432x288 with 1 Axes>"
            ],
            "image/png": "[encoded data removed]"
          },
          "metadata": {
            "needs_background": "light"
          }
        }
      ]
    },
    {
      "cell_type": "code",
      "source": [
        "df.head()"
      ],
      "metadata": {
        "colab": {
          "base_uri": "https://localhost:8080/",
          "height": 206
        },
        "id": "wXGAa75i1fEl",
        "outputId": "858a84d3-8c16-42e5-9518-cb4a9e58a704"
      },
      "execution_count": 22,
      "outputs": [
        {
          "output_type": "execute_result",
          "data": {
            "text/plain": [
              "         Admit Age   Race Hispanic  HomeZip  InjuryZip      MOI     ECode  \\\n",
              "2   07/05/2015  37  WHITE        0  11961.0    11961.0  ASSAULT       *BL   \n",
              "4   07/19/2015  49  BLACK        0  11968.0    11968.0  ASSAULT       *BL   \n",
              "5   07/20/2015  31  WHITE        0  11727.0    11944.0  ASSAULT       *BL   \n",
              "11  09/01/2015  43  BLACK        0  11901.0    11901.0  ASSAULT       *BL   \n",
              "17  10/17/2015  42  BLACK        1  11951.0    11980.0  ASSAULT  Y04.0XXA   \n",
              "\n",
              "   Activity   Site HLOS ISS       DCDispo WorkInjury TimetoED   agegrp  catage  \n",
              "2       *BL    *BL    5   1  HOME, NO SVC          N        2  35 to 4       2  \n",
              "4       *BL    *BL    3  10  HOME, NO SVC          N        2  45 to 5       2  \n",
              "5       *BL    *BL    3   5  HOME, NO SVC          N        2  25 to 3       2  \n",
              "11      *BL    *BL    2  10  HOME, NO SVC          N        2  35 to 4       2  \n",
              "17      *BL  Y92.9   10  17  HOME, NO SVC          N        3  35 to 4       2  "
            ],
            "text/html": [
              "\n",
              "  <div id=\"df-56eefcdb-7f95-469b-976a-8a1e6b760dcd\">\n",
              "    <div class=\"colab-df-container\">\n",
              "      <div>\n",
              "<style scoped>\n",
              "    .dataframe tbody tr th:only-of-type {\n",
              "        vertical-align: middle;\n",
              "    }\n",
              "\n",
              "    .dataframe tbody tr th {\n",
              "        vertical-align: top;\n",
              "    }\n",
              "\n",
              "    .dataframe thead th {\n",
              "        text-align: right;\n",
              "    }\n",
              "</style>\n",
              "<table border=\"1\" class=\"dataframe\">\n",
              "  <thead>\n",
              "    <tr style=\"text-align: right;\">\n",
              "      <th></th>\n",
              "      <th>Admit</th>\n",
              "      <th>Age</th>\n",
              "      <th>Race</th>\n",
              "      <th>Hispanic</th>\n",
              "      <th>HomeZip</th>\n",
              "      <th>InjuryZip</th>\n",
              "      <th>MOI</th>\n",
              "      <th>ECode</th>\n",
              "      <th>Activity</th>\n",
              "      <th>Site</th>\n",
              "      <th>HLOS</th>\n",
              "      <th>ISS</th>\n",
              "      <th>DCDispo</th>\n",
              "      <th>WorkInjury</th>\n",
              "      <th>TimetoED</th>\n",
              "      <th>agegrp</th>\n",
              "      <th>catage</th>\n",
              "    </tr>\n",
              "  </thead>\n",
              "  <tbody>\n",
              "    <tr>\n",
              "      <th>2</th>\n",
              "      <td>07/05/2015</td>\n",
              "      <td>37</td>\n",
              "      <td>WHITE</td>\n",
              "      <td>0</td>\n",
              "      <td>11961.0</td>\n",
              "      <td>11961.0</td>\n",
              "      <td>ASSAULT</td>\n",
              "      <td>*BL</td>\n",
              "      <td>*BL</td>\n",
              "      <td>*BL</td>\n",
              "      <td>5</td>\n",
              "      <td>1</td>\n",
              "      <td>HOME, NO SVC</td>\n",
              "      <td>N</td>\n",
              "      <td>2</td>\n",
              "      <td>35 to 4</td>\n",
              "      <td>2</td>\n",
              "    </tr>\n",
              "    <tr>\n",
              "      <th>4</th>\n",
              "      <td>07/19/2015</td>\n",
              "      <td>49</td>\n",
              "      <td>BLACK</td>\n",
              "      <td>0</td>\n",
              "      <td>11968.0</td>\n",
              "      <td>11968.0</td>\n",
              "      <td>ASSAULT</td>\n",
              "      <td>*BL</td>\n",
              "      <td>*BL</td>\n",
              "      <td>*BL</td>\n",
              "      <td>3</td>\n",
              "      <td>10</td>\n",
              "      <td>HOME, NO SVC</td>\n",
              "      <td>N</td>\n",
              "      <td>2</td>\n",
              "      <td>45 to 5</td>\n",
              "      <td>2</td>\n",
              "    </tr>\n",
              "    <tr>\n",
              "      <th>5</th>\n",
              "      <td>07/20/2015</td>\n",
              "      <td>31</td>\n",
              "      <td>WHITE</td>\n",
              "      <td>0</td>\n",
              "      <td>11727.0</td>\n",
              "      <td>11944.0</td>\n",
              "      <td>ASSAULT</td>\n",
              "      <td>*BL</td>\n",
              "      <td>*BL</td>\n",
              "      <td>*BL</td>\n",
              "      <td>3</td>\n",
              "      <td>5</td>\n",
              "      <td>HOME, NO SVC</td>\n",
              "      <td>N</td>\n",
              "      <td>2</td>\n",
              "      <td>25 to 3</td>\n",
              "      <td>2</td>\n",
              "    </tr>\n",
              "    <tr>\n",
              "      <th>11</th>\n",
              "      <td>09/01/2015</td>\n",
              "      <td>43</td>\n",
              "      <td>BLACK</td>\n",
              "      <td>0</td>\n",
              "      <td>11901.0</td>\n",
              "      <td>11901.0</td>\n",
              "      <td>ASSAULT</td>\n",
              "      <td>*BL</td>\n",
              "      <td>*BL</td>\n",
              "      <td>*BL</td>\n",
              "      <td>2</td>\n",
              "      <td>10</td>\n",
              "      <td>HOME, NO SVC</td>\n",
              "      <td>N</td>\n",
              "      <td>2</td>\n",
              "      <td>35 to 4</td>\n",
              "      <td>2</td>\n",
              "    </tr>\n",
              "    <tr>\n",
              "      <th>17</th>\n",
              "      <td>10/17/2015</td>\n",
              "      <td>42</td>\n",
              "      <td>BLACK</td>\n",
              "      <td>1</td>\n",
              "      <td>11951.0</td>\n",
              "      <td>11980.0</td>\n",
              "      <td>ASSAULT</td>\n",
              "      <td>Y04.0XXA</td>\n",
              "      <td>*BL</td>\n",
              "      <td>Y92.9</td>\n",
              "      <td>10</td>\n",
              "      <td>17</td>\n",
              "      <td>HOME, NO SVC</td>\n",
              "      <td>N</td>\n",
              "      <td>3</td>\n",
              "      <td>35 to 4</td>\n",
              "      <td>2</td>\n",
              "    </tr>\n",
              "  </tbody>\n",
              "</table>\n",
              "</div>\n",
              "      <button class=\"colab-df-convert\" onclick=\"convertToInteractive('df-56eefcdb-7f95-469b-976a-8a1e6b760dcd')\"\n",
              "              title=\"Convert this dataframe to an interactive table.\"\n",
              "              style=\"display:none;\">\n",
              "        \n",
              "  <svg xmlns=\"http://www.w3.org/2000/svg\" height=\"24px\"viewBox=\"0 0 24 24\"\n",
              "       width=\"24px\">\n",
              "    <path d=\"M0 0h24v24H0V0z\" fill=\"none\"/>\n",
              "    <path d=\"M18.56 5.44l.94 2.06.94-2.06 2.06-.94-2.06-.94-.94-2.06-.94 2.06-2.06.94zm-11 1L8.5 8.5l.94-2.06 2.06-.94-2.06-.94L8.5 2.5l-.94 2.06-2.06.94zm10 10l.94 2.06.94-2.06 2.06-.94-2.06-.94-.94-2.06-.94 2.06-2.06.94z\"/><path d=\"M17.41 7.96l-1.37-1.37c-.4-.4-.92-.59-1.43-.59-.52 0-1.04.2-1.43.59L10.3 9.45l-7.72 7.72c-.78.78-.78 2.05 0 2.83L4 21.41c.39.39.9.59 1.41.59.51 0 1.02-.2 1.41-.59l7.78-7.78 2.81-2.81c.8-.78.8-2.07 0-2.86zM5.41 20L4 18.59l7.72-7.72 1.47 1.35L5.41 20z\"/>\n",
              "  </svg>\n",
              "      </button>\n",
              "      \n",
              "  <style>\n",
              "    .colab-df-container {\n",
              "      display:flex;\n",
              "      flex-wrap:wrap;\n",
              "      gap: 12px;\n",
              "    }\n",
              "\n",
              "    .colab-df-convert {\n",
              "      background-color: #E8F0FE;\n",
              "      border: none;\n",
              "      border-radius: 50%;\n",
              "      cursor: pointer;\n",
              "      display: none;\n",
              "      fill: #1967D2;\n",
              "      height: 32px;\n",
              "      padding: 0 0 0 0;\n",
              "      width: 32px;\n",
              "    }\n",
              "\n",
              "    .colab-df-convert:hover {\n",
              "      background-color: #E2EBFA;\n",
              "      box-shadow: 0px 1px 2px rgba(60, 64, 67, 0.3), 0px 1px 3px 1px rgba(60, 64, 67, 0.15);\n",
              "      fill: #174EA6;\n",
              "    }\n",
              "\n",
              "    [theme=dark] .colab-df-convert {\n",
              "      background-color: #3B4455;\n",
              "      fill: #D2E3FC;\n",
              "    }\n",
              "\n",
              "    [theme=dark] .colab-df-convert:hover {\n",
              "      background-color: #434B5C;\n",
              "      box-shadow: 0px 1px 3px 1px rgba(0, 0, 0, 0.15);\n",
              "      filter: drop-shadow(0px 1px 2px rgba(0, 0, 0, 0.3));\n",
              "      fill: #FFFFFF;\n",
              "    }\n",
              "  </style>\n",
              "\n",
              "      <script>\n",
              "        const buttonEl =\n",
              "          document.querySelector('#df-56eefcdb-7f95-469b-976a-8a1e6b760dcd button.colab-df-convert');\n",
              "        buttonEl.style.display =\n",
              "          google.colab.kernel.accessAllowed ? 'block' : 'none';\n",
              "\n",
              "        async function convertToInteractive(key) {\n",
              "          const element = document.querySelector('#df-56eefcdb-7f95-469b-976a-8a1e6b760dcd');\n",
              "          const dataTable =\n",
              "            await google.colab.kernel.invokeFunction('convertToInteractive',\n",
              "                                                     [key], {});\n",
              "          if (!dataTable) return;\n",
              "\n",
              "          const docLinkHtml = 'Like what you see? Visit the ' +\n",
              "            '<a target=\"_blank\" href=https://colab.research.google.com/notebooks/data_table.ipynb>data table notebook</a>'\n",
              "            + ' to learn more about interactive tables.';\n",
              "          element.innerHTML = '';\n",
              "          dataTable['output_type'] = 'display_data';\n",
              "          await google.colab.output.renderOutput(dataTable, element);\n",
              "          const docLink = document.createElement('div');\n",
              "          docLink.innerHTML = docLinkHtml;\n",
              "          element.appendChild(docLink);\n",
              "        }\n",
              "      </script>\n",
              "    </div>\n",
              "  </div>\n",
              "  "
            ]
          },
          "metadata": {},
          "execution_count": 22
        }
      ]
    },
    {
      "cell_type": "code",
      "source": [
        "# Calculate the mean \n",
        "mean_Hispanic = df[\"Hispanic\"].mean()\n",
        "print(\"Mean Hispanic Origin:\", mean_Hispanic)\n",
        "\n",
        "# Calculate the median \n",
        "median_Hispanic = df[\"Hispanic\"].median()\n",
        "print(\"Median Hispanic Origin:\", median_Hispanic)"
      ],
      "metadata": {
        "colab": {
          "base_uri": "https://localhost:8080/"
        },
        "id": "4rJigCAPT9XE",
        "outputId": "f14a0dfa-e267-4e1b-ab61-6fe2223aaf2f"
      },
      "execution_count": 28,
      "outputs": [
        {
          "output_type": "stream",
          "name": "stdout",
          "text": [
            "Mean Hispanic Origin: 0.12782503037667073\n",
            "Median Hispanic Origin: 0.0\n"
          ]
        }
      ]
    },
    {
      "cell_type": "markdown",
      "source": [
        "Mechnism of Injury (MOI)"
      ],
      "metadata": {
        "id": "JvsZ8TEBjG3s"
      }
    },
    {
      "cell_type": "code",
      "source": [
        "# Create the frequency table for MOI in percentage form\n",
        "MOI_freq = df['MOI'].value_counts(normalize=True).sort_index()\n",
        "\n",
        "# Print the frequency table\n",
        "print(MOI_freq)"
      ],
      "metadata": {
        "colab": {
          "base_uri": "https://localhost:8080/"
        },
        "id": "mT0jZ9nijO6P",
        "outputId": "4b76d3e2-81c0-4cc7-a6c7-cf922d978a8b"
      },
      "execution_count": 69,
      "outputs": [
        {
          "output_type": "stream",
          "name": "stdout",
          "text": [
            "ASSAULT       0.046233\n",
            "BOAT          0.000936\n",
            "BURN          0.062050\n",
            "DROWNING      0.003088\n",
            "FALL          0.552737\n",
            "HANGING       0.000842\n",
            "MCC           0.050164\n",
            "MVC           0.136079\n",
            "OTHER         0.062143\n",
            "PEDALCYCLE    0.024146\n",
            "SPORTS        0.022836\n",
            "STRUCK BY     0.038746\n",
            "Name: MOI, dtype: float64\n"
          ]
        }
      ]
    },
    {
      "cell_type": "code",
      "source": [
        "# Plot the frequency table as a histogram\n",
        "sns.countplot(x=\"MOI\", data=df, order=df[\"MOI\"].value_counts().index)\n",
        "\n",
        "# Show the plot\n",
        "plt.show()"
      ],
      "metadata": {
        "colab": {
          "base_uri": "https://localhost:8080/",
          "height": 282
        },
        "id": "xfVKzKG0kwe5",
        "outputId": "f8619086-95be-4e16-b1d1-462babbd0a49"
      },
      "execution_count": 87,
      "outputs": [
        {
          "output_type": "display_data",
          "data": {
            "text/plain": [
              "<Figure size 432x288 with 1 Axes>"
            ],
            "image/png": "[encoded data removed]"
          },
          "metadata": {
            "needs_background": "light"
          }
        }
      ]
    },
    {
      "cell_type": "code",
      "source": [
        "# Create a new variable with frequency of MOI\n",
        "df['MOI Frequency'] = df['MOI'].map(df['MOI'].value_counts())"
      ],
      "metadata": {
        "id": "z__PU22Ljmtk"
      },
      "execution_count": 70,
      "outputs": []
    },
    {
      "cell_type": "code",
      "source": [
        "df.head()"
      ],
      "metadata": {
        "colab": {
          "base_uri": "https://localhost:8080/",
          "height": 354
        },
        "id": "HSdSLI_7j2Og",
        "outputId": "588e78ce-724c-4016-f001-c4d754e1a12e"
      },
      "execution_count": 71,
      "outputs": [
        {
          "output_type": "execute_result",
          "data": {
            "text/plain": [
              "        Admit Age   Race Hispanic  HomeZip  InjuryZip      MOI     ECode  \\\n",
              "0  04/26/2016   0  OTHER        Y  11901.0        NaN      NaN  X58.XXXA   \n",
              "1  07/25/2015  21  WHITE        N  32934.0        NaN  ASSAULT       *BL   \n",
              "2  07/05/2015  37  WHITE        N  11961.0    11961.0  ASSAULT       *BL   \n",
              "3  07/08/2015  20  BLACK        N  11727.0        NaN  ASSAULT       *BL   \n",
              "4  07/19/2015  49  BLACK        N  11968.0    11968.0  ASSAULT       *BL   \n",
              "\n",
              "  Activity   Site HLOS ISS       DCDispo WorkInjury TimetoED   agegrp  catage  \\\n",
              "0      *BL  Y92.9    2   4  HOME, NO SVC          N        6  <1 year       1   \n",
              "1      *BL    *BL   14  17  HOME, NO SVC          N        2  20 to 2       2   \n",
              "2      *BL    *BL    5   1  HOME, NO SVC          N        2  35 to 4       2   \n",
              "3      *BL    *BL    2   5  HOME, NO SVC          N        2  20 to 2       2   \n",
              "4      *BL    *BL    3  10  HOME, NO SVC          N        2  45 to 5       2   \n",
              "\n",
              "   MOI Frequency  \n",
              "0            NaN  \n",
              "1          494.0  \n",
              "2          494.0  \n",
              "3          494.0  \n",
              "4          494.0  "
            ],
            "text/html": [
              "\n",
              "  <div id=\"df-1dc438c3-0323-48ef-8b3f-07d109d36595\">\n",
              "    <div class=\"colab-df-container\">\n",
              "      <div>\n",
              "<style scoped>\n",
              "    .dataframe tbody tr th:only-of-type {\n",
              "        vertical-align: middle;\n",
              "    }\n",
              "\n",
              "    .dataframe tbody tr th {\n",
              "        vertical-align: top;\n",
              "    }\n",
              "\n",
              "    .dataframe thead th {\n",
              "        text-align: right;\n",
              "    }\n",
              "</style>\n",
              "<table border=\"1\" class=\"dataframe\">\n",
              "  <thead>\n",
              "    <tr style=\"text-align: right;\">\n",
              "      <th></th>\n",
              "      <th>Admit</th>\n",
              "      <th>Age</th>\n",
              "      <th>Race</th>\n",
              "      <th>Hispanic</th>\n",
              "      <th>HomeZip</th>\n",
              "      <th>InjuryZip</th>\n",
              "      <th>MOI</th>\n",
              "      <th>ECode</th>\n",
              "      <th>Activity</th>\n",
              "      <th>Site</th>\n",
              "      <th>HLOS</th>\n",
              "      <th>ISS</th>\n",
              "      <th>DCDispo</th>\n",
              "      <th>WorkInjury</th>\n",
              "      <th>TimetoED</th>\n",
              "      <th>agegrp</th>\n",
              "      <th>catage</th>\n",
              "      <th>MOI Frequency</th>\n",
              "    </tr>\n",
              "  </thead>\n",
              "  <tbody>\n",
              "    <tr>\n",
              "      <th>0</th>\n",
              "      <td>04/26/2016</td>\n",
              "      <td>0</td>\n",
              "      <td>OTHER</td>\n",
              "      <td>Y</td>\n",
              "      <td>11901.0</td>\n",
              "      <td>NaN</td>\n",
              "      <td>NaN</td>\n",
              "      <td>X58.XXXA</td>\n",
              "      <td>*BL</td>\n",
              "      <td>Y92.9</td>\n",
              "      <td>2</td>\n",
              "      <td>4</td>\n",
              "      <td>HOME, NO SVC</td>\n",
              "      <td>N</td>\n",
              "      <td>6</td>\n",
              "      <td>&lt;1 year</td>\n",
              "      <td>1</td>\n",
              "      <td>NaN</td>\n",
              "    </tr>\n",
              "    <tr>\n",
              "      <th>1</th>\n",
              "      <td>07/25/2015</td>\n",
              "      <td>21</td>\n",
              "      <td>WHITE</td>\n",
              "      <td>N</td>\n",
              "      <td>32934.0</td>\n",
              "      <td>NaN</td>\n",
              "      <td>ASSAULT</td>\n",
              "      <td>*BL</td>\n",
              "      <td>*BL</td>\n",
              "      <td>*BL</td>\n",
              "      <td>14</td>\n",
              "      <td>17</td>\n",
              "      <td>HOME, NO SVC</td>\n",
              "      <td>N</td>\n",
              "      <td>2</td>\n",
              "      <td>20 to 2</td>\n",
              "      <td>2</td>\n",
              "      <td>494.0</td>\n",
              "    </tr>\n",
              "    <tr>\n",
              "      <th>2</th>\n",
              "      <td>07/05/2015</td>\n",
              "      <td>37</td>\n",
              "      <td>WHITE</td>\n",
              "      <td>N</td>\n",
              "      <td>11961.0</td>\n",
              "      <td>11961.0</td>\n",
              "      <td>ASSAULT</td>\n",
              "      <td>*BL</td>\n",
              "      <td>*BL</td>\n",
              "      <td>*BL</td>\n",
              "      <td>5</td>\n",
              "      <td>1</td>\n",
              "      <td>HOME, NO SVC</td>\n",
              "      <td>N</td>\n",
              "      <td>2</td>\n",
              "      <td>35 to 4</td>\n",
              "      <td>2</td>\n",
              "      <td>494.0</td>\n",
              "    </tr>\n",
              "    <tr>\n",
              "      <th>3</th>\n",
              "      <td>07/08/2015</td>\n",
              "      <td>20</td>\n",
              "      <td>BLACK</td>\n",
              "      <td>N</td>\n",
              "      <td>11727.0</td>\n",
              "      <td>NaN</td>\n",
              "      <td>ASSAULT</td>\n",
              "      <td>*BL</td>\n",
              "      <td>*BL</td>\n",
              "      <td>*BL</td>\n",
              "      <td>2</td>\n",
              "      <td>5</td>\n",
              "      <td>HOME, NO SVC</td>\n",
              "      <td>N</td>\n",
              "      <td>2</td>\n",
              "      <td>20 to 2</td>\n",
              "      <td>2</td>\n",
              "      <td>494.0</td>\n",
              "    </tr>\n",
              "    <tr>\n",
              "      <th>4</th>\n",
              "      <td>07/19/2015</td>\n",
              "      <td>49</td>\n",
              "      <td>BLACK</td>\n",
              "      <td>N</td>\n",
              "      <td>11968.0</td>\n",
              "      <td>11968.0</td>\n",
              "      <td>ASSAULT</td>\n",
              "      <td>*BL</td>\n",
              "      <td>*BL</td>\n",
              "      <td>*BL</td>\n",
              "      <td>3</td>\n",
              "      <td>10</td>\n",
              "      <td>HOME, NO SVC</td>\n",
              "      <td>N</td>\n",
              "      <td>2</td>\n",
              "      <td>45 to 5</td>\n",
              "      <td>2</td>\n",
              "      <td>494.0</td>\n",
              "    </tr>\n",
              "  </tbody>\n",
              "</table>\n",
              "</div>\n",
              "      <button class=\"colab-df-convert\" onclick=\"convertToInteractive('df-1dc438c3-0323-48ef-8b3f-07d109d36595')\"\n",
              "              title=\"Convert this dataframe to an interactive table.\"\n",
              "              style=\"display:none;\">\n",
              "        \n",
              "  <svg xmlns=\"http://www.w3.org/2000/svg\" height=\"24px\"viewBox=\"0 0 24 24\"\n",
              "       width=\"24px\">\n",
              "    <path d=\"M0 0h24v24H0V0z\" fill=\"none\"/>\n",
              "    <path d=\"M18.56 5.44l.94 2.06.94-2.06 2.06-.94-2.06-.94-.94-2.06-.94 2.06-2.06.94zm-11 1L8.5 8.5l.94-2.06 2.06-.94-2.06-.94L8.5 2.5l-.94 2.06-2.06.94zm10 10l.94 2.06.94-2.06 2.06-.94-2.06-.94-.94-2.06-.94 2.06-2.06.94z\"/><path d=\"M17.41 7.96l-1.37-1.37c-.4-.4-.92-.59-1.43-.59-.52 0-1.04.2-1.43.59L10.3 9.45l-7.72 7.72c-.78.78-.78 2.05 0 2.83L4 21.41c.39.39.9.59 1.41.59.51 0 1.02-.2 1.41-.59l7.78-7.78 2.81-2.81c.8-.78.8-2.07 0-2.86zM5.41 20L4 18.59l7.72-7.72 1.47 1.35L5.41 20z\"/>\n",
              "  </svg>\n",
              "      </button>\n",
              "      \n",
              "  <style>\n",
              "    .colab-df-container {\n",
              "      display:flex;\n",
              "      flex-wrap:wrap;\n",
              "      gap: 12px;\n",
              "    }\n",
              "\n",
              "    .colab-df-convert {\n",
              "      background-color: #E8F0FE;\n",
              "      border: none;\n",
              "      border-radius: 50%;\n",
              "      cursor: pointer;\n",
              "      display: none;\n",
              "      fill: #1967D2;\n",
              "      height: 32px;\n",
              "      padding: 0 0 0 0;\n",
              "      width: 32px;\n",
              "    }\n",
              "\n",
              "    .colab-df-convert:hover {\n",
              "      background-color: #E2EBFA;\n",
              "      box-shadow: 0px 1px 2px rgba(60, 64, 67, 0.3), 0px 1px 3px 1px rgba(60, 64, 67, 0.15);\n",
              "      fill: #174EA6;\n",
              "    }\n",
              "\n",
              "    [theme=dark] .colab-df-convert {\n",
              "      background-color: #3B4455;\n",
              "      fill: #D2E3FC;\n",
              "    }\n",
              "\n",
              "    [theme=dark] .colab-df-convert:hover {\n",
              "      background-color: #434B5C;\n",
              "      box-shadow: 0px 1px 3px 1px rgba(0, 0, 0, 0.15);\n",
              "      filter: drop-shadow(0px 1px 2px rgba(0, 0, 0, 0.3));\n",
              "      fill: #FFFFFF;\n",
              "    }\n",
              "  </style>\n",
              "\n",
              "      <script>\n",
              "        const buttonEl =\n",
              "          document.querySelector('#df-1dc438c3-0323-48ef-8b3f-07d109d36595 button.colab-df-convert');\n",
              "        buttonEl.style.display =\n",
              "          google.colab.kernel.accessAllowed ? 'block' : 'none';\n",
              "\n",
              "        async function convertToInteractive(key) {\n",
              "          const element = document.querySelector('#df-1dc438c3-0323-48ef-8b3f-07d109d36595');\n",
              "          const dataTable =\n",
              "            await google.colab.kernel.invokeFunction('convertToInteractive',\n",
              "                                                     [key], {});\n",
              "          if (!dataTable) return;\n",
              "\n",
              "          const docLinkHtml = 'Like what you see? Visit the ' +\n",
              "            '<a target=\"_blank\" href=https://colab.research.google.com/notebooks/data_table.ipynb>data table notebook</a>'\n",
              "            + ' to learn more about interactive tables.';\n",
              "          element.innerHTML = '';\n",
              "          dataTable['output_type'] = 'display_data';\n",
              "          await google.colab.output.renderOutput(dataTable, element);\n",
              "          const docLink = document.createElement('div');\n",
              "          docLink.innerHTML = docLinkHtml;\n",
              "          element.appendChild(docLink);\n",
              "        }\n",
              "      </script>\n",
              "    </div>\n",
              "  </div>\n",
              "  "
            ]
          },
          "metadata": {},
          "execution_count": 71
        }
      ]
    },
    {
      "cell_type": "markdown",
      "source": [
        "Hospital Length of Stay in days (HLOS)"
      ],
      "metadata": {
        "id": "9wBiOmZlkzsy"
      }
    },
    {
      "cell_type": "code",
      "source": [
        "# Create the frequency table\n",
        "HLOS_freq = df['HLOS'].value_counts().sort_index()\n",
        "\n",
        "# Print the frequency table\n",
        "print(HLOS_freq)"
      ],
      "metadata": {
        "colab": {
          "base_uri": "https://localhost:8080/"
        },
        "id": "icVkyuVjk1aR",
        "outputId": "fb90aae1-5fbe-46ac-e320-f1a15eef02de"
      },
      "execution_count": 48,
      "outputs": [
        {
          "output_type": "stream",
          "name": "stdout",
          "text": [
            "1      292\n",
            "10     252\n",
            "100      1\n",
            "104      1\n",
            "105      1\n",
            "      ... \n",
            "92       1\n",
            "94       2\n",
            "95       1\n",
            "97       1\n",
            "99       1\n",
            "Name: HLOS, Length: 115, dtype: int64\n"
          ]
        }
      ]
    },
    {
      "cell_type": "code",
      "source": [
        "# Remove observations with *BL\n",
        "df = df[df['HLOS'] != '*BL']"
      ],
      "metadata": {
        "id": "ay__Psmwm1ty"
      },
      "execution_count": 45,
      "outputs": []
    },
    {
      "cell_type": "code",
      "source": [
        "string_values = df[df['HLOS'].apply(lambda x: isinstance(x, str))]['HLOS'].unique()\n",
        "\n",
        "# Create a frequency table for the string values\n",
        "freq_table = df[df['HLOS'].isin(string_values)]['HLOS'].value_counts().sort_index()"
      ],
      "metadata": {
        "id": "3y8BUraJq2Ql"
      },
      "execution_count": 69,
      "outputs": []
    },
    {
      "cell_type": "code",
      "source": [
        "freq_table"
      ],
      "metadata": {
        "colab": {
          "base_uri": "https://localhost:8080/"
        },
        "id": "SHUkr8VarCFJ",
        "outputId": "ba392450-adb4-4df6-8b42-b3d982de4b63"
      },
      "execution_count": 70,
      "outputs": [
        {
          "output_type": "execute_result",
          "data": {
            "text/plain": [
              "1      441\n",
              "10     316\n",
              "100      1\n",
              "104      1\n",
              "105      1\n",
              "      ... \n",
              "92       1\n",
              "94       2\n",
              "95       1\n",
              "97       1\n",
              "99       1\n",
              "Name: HLOS, Length: 125, dtype: int64"
            ]
          },
          "metadata": {},
          "execution_count": 70
        }
      ]
    },
    {
      "cell_type": "markdown",
      "source": [
        "Injury Severity Score (ISS)"
      ],
      "metadata": {
        "id": "s8GsbMQhlkip"
      }
    },
    {
      "cell_type": "code",
      "source": [
        "# Create the frequency table\n",
        "ISS_freq = df['ISS'].value_counts().sort_index()\n",
        "\n",
        "# Print the frequency table\n",
        "print(ISS_freq)"
      ],
      "metadata": {
        "colab": {
          "base_uri": "https://localhost:8080/"
        },
        "id": "ra2KDXVQlnzF",
        "outputId": "8f69ff72-4c50-459a-b8a5-5352a7c83ea5"
      },
      "execution_count": 57,
      "outputs": [
        {
          "output_type": "stream",
          "name": "stdout",
          "text": [
            "1     1088\n",
            "10    1097\n",
            "11      91\n",
            "12     110\n",
            "13     240\n",
            "14     483\n",
            "16     132\n",
            "17     411\n",
            "18      71\n",
            "19      87\n",
            "2      263\n",
            "20      23\n",
            "21     112\n",
            "22     141\n",
            "24      47\n",
            "25     114\n",
            "26     142\n",
            "27      46\n",
            "29      93\n",
            "3       15\n",
            "30      45\n",
            "32       2\n",
            "33      36\n",
            "34      43\n",
            "35      15\n",
            "36       9\n",
            "38      31\n",
            "4     1664\n",
            "41      20\n",
            "42       6\n",
            "43      17\n",
            "45      12\n",
            "48       4\n",
            "5     1370\n",
            "50      21\n",
            "54       5\n",
            "57       7\n",
            "59       3\n",
            "6      165\n",
            "66       3\n",
            "75      18\n",
            "8      159\n",
            "9     2215\n",
            "Name: ISS, dtype: int64\n"
          ]
        }
      ]
    },
    {
      "cell_type": "code",
      "source": [
        "# Remove observations with *BL, *NA, *ND\n",
        "df = df[df['ISS'] != '*BL']\n",
        "df = df[df['ISS'] != '*NA']\n",
        "df = df[df['ISS'] != '*ND']"
      ],
      "metadata": {
        "id": "3_zbpzLBl4Kf"
      },
      "execution_count": 56,
      "outputs": []
    },
    {
      "cell_type": "markdown",
      "source": [
        "Work Injury"
      ],
      "metadata": {
        "id": "PkDrxmKUQIU8"
      }
    },
    {
      "cell_type": "code",
      "source": [
        "# Create the frequency table\n",
        "WorkInjury_freq = df['WorkInjury'].value_counts()\n",
        "\n",
        "# Print the frequency table\n",
        "print(WorkInjury_freq)"
      ],
      "metadata": {
        "colab": {
          "base_uri": "https://localhost:8080/"
        },
        "id": "FiQE3lFiQKMN",
        "outputId": "9b77d165-09e1-4a44-84ea-2b0c15f5e012"
      },
      "execution_count": 104,
      "outputs": [
        {
          "output_type": "stream",
          "name": "stdout",
          "text": [
            "0    9727\n",
            "1     540\n",
            "Name: WorkInjury, dtype: int64\n"
          ]
        }
      ]
    },
    {
      "cell_type": "code",
      "source": [
        "# Plot the frequency table as a histogram\n",
        "sns.countplot(x=\"WorkInjury\", data=df, order=df[\"WorkInjury\"].value_counts().index)\n",
        "\n",
        "# Show the plot\n",
        "plt.show()"
      ],
      "metadata": {
        "colab": {
          "base_uri": "https://localhost:8080/",
          "height": 279
        },
        "id": "A6iFUcbBl1SA",
        "outputId": "3467acf5-1995-4e48-d617-d7b5c682f01a"
      },
      "execution_count": 105,
      "outputs": [
        {
          "output_type": "display_data",
          "data": {
            "text/plain": [
              "<Figure size 432x288 with 1 Axes>"
            ],
            "image/png": "[encoded data removed]"
          },
          "metadata": {
            "needs_background": "light"
          }
        }
      ]
    },
    {
      "cell_type": "code",
      "source": [
        "# Remove observations with *ND\n",
        "df = df[df['WorkInjury'] != '*ND']"
      ],
      "metadata": {
        "id": "p9bCJ5xAmX0d"
      },
      "execution_count": 103,
      "outputs": []
    },
    {
      "cell_type": "code",
      "source": [
        "# Replace the values \"Y\" and \"N\" with 1 and 0\n",
        "df['WorkInjury'] = df['WorkInjury'].replace({'Y': 1, 'N': 0})"
      ],
      "metadata": {
        "id": "7BfAkb9aQopP"
      },
      "execution_count": 98,
      "outputs": []
    },
    {
      "cell_type": "markdown",
      "source": [
        "Time to ED"
      ],
      "metadata": {
        "id": "2NqWuKDVRKG2"
      }
    },
    {
      "cell_type": "code",
      "source": [
        "# Create the frequency table\n",
        "freq_table = df['TimetoED'].value_counts().sort_index()\n",
        "\n",
        "# Print the frequency table\n",
        "print(freq_table)"
      ],
      "metadata": {
        "colab": {
          "base_uri": "https://localhost:8080/"
        },
        "id": "oKQnIld7RP7J",
        "outputId": "708f16b0-b626-4320-8142-6db195a92aba"
      },
      "execution_count": 11,
      "outputs": [
        {
          "output_type": "stream",
          "name": "stdout",
          "text": [
            "1       469\n",
            "2      5451\n",
            "3      1595\n",
            "4      1565\n",
            "4.1      52\n",
            "4.2      58\n",
            "5       432\n",
            "6       856\n",
            "Name: TimetoED, dtype: int64\n"
          ]
        }
      ]
    },
    {
      "cell_type": "code",
      "source": [
        "# Remove observations with *BL, *NA, *ND\n",
        "df = df[df['TimetoED'] != '*BL']\n",
        "df = df[df['TimetoED'] != '*NA']\n",
        "df = df[df['TimetoED'] != '*ND']"
      ],
      "metadata": {
        "id": "mH28FgYpRpU5"
      },
      "execution_count": 10,
      "outputs": []
    },
    {
      "cell_type": "markdown",
      "source": [
        "Null Values"
      ],
      "metadata": {
        "id": "WoBIFVKmjMjt"
      }
    },
    {
      "cell_type": "code",
      "source": [
        "# Check for null values\n",
        "null_mask = df.isnull().sum()\n",
        "\n",
        "# Print the null mask\n",
        "print(null_mask)"
      ],
      "metadata": {
        "colab": {
          "base_uri": "https://localhost:8080/"
        },
        "id": "p2JLSB1CtSLC",
        "outputId": "6e85412c-21b2-4dbd-c783-3791148b6940"
      },
      "execution_count": 16,
      "outputs": [
        {
          "output_type": "stream",
          "name": "stdout",
          "text": [
            "Admit         0\n",
            "Age           0\n",
            "Race          0\n",
            "Hispanic      0\n",
            "HomeZip       0\n",
            "InjuryZip     0\n",
            "MOI           0\n",
            "ECode         0\n",
            "Activity      0\n",
            "Site          0\n",
            "HLOS          0\n",
            "ISS           0\n",
            "DCDispo       0\n",
            "WorkInjury    0\n",
            "TimetoED      0\n",
            "agegrp        0\n",
            "catage        0\n",
            "dtype: int64\n"
          ]
        }
      ]
    },
    {
      "cell_type": "code",
      "source": [
        "# Drop rows with any null values\n",
        "df = df.dropna()"
      ],
      "metadata": {
        "id": "d3LNNu6ESQBw"
      },
      "execution_count": 14,
      "outputs": []
    }
  ]
}
